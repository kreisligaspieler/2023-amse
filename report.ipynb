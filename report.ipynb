{
 "cells": [
  {
   "attachments": {},
   "cell_type": "markdown",
   "metadata": {},
   "source": [
    "# Correlation analysis between chlorophyll a (indicator for marine plants) and seawater temperature \n",
    "\n",
    "This report analyzes a possible correlation between chlorophyll a in seawater which indicates changes in marine plants like phytoplankton and seawater temperature. It uses open data from Mobilithek (https://data.bsh.de/OpenData/DOD/MO_H_CHLA/ and https://data.bsh.de/OpenData/DOD/MO_H_TEMP/) for the analysis.\n",
    "The data is licensed under following license:\n",
    "License: GeoSeaPortal des BSH, licensed under the following license: Data licence Germany – attribution – Version 2.0\" or \"dl-de/by-2-0\" referring to the licence text available at www.govdata.de/dl-de/by-2-0, data available at https://data.bsh.de/OpenData/DOD/MO_H_CHLA/ "
   ]
  },
  {
   "attachments": {},
   "cell_type": "markdown",
   "metadata": {},
   "source": [
    "## Install dependencies\n",
    "Initially, install all required dependencies. "
   ]
  },
  {
   "cell_type": "code",
   "execution_count": null,
   "metadata": {},
   "outputs": [],
   "source": [
    "%pip install pandas\n",
    "%pip install matplotlib\n",
    "%pip install numpy"
   ]
  },
  {
   "attachments": {},
   "cell_type": "markdown",
   "metadata": {},
   "source": [
    "## Load data\n",
    "Create a pandas dataframe using the local sqlite file."
   ]
  },
  {
   "cell_type": "code",
   "execution_count": 22,
   "metadata": {},
   "outputs": [],
   "source": [
    "import pandas as pd\n",
    "import sqlite3\n",
    "import matplotlib.pyplot as plt\n",
    "import numpy as np\n",
    "import math\n",
    "\n",
    "con = sqlite3.connect('./data/data.sqlite')\n",
    "df1 = pd.read_sql_query(\"SELECT * FROM CHLA_18\", con)\n",
    "df2 = pd.read_sql_query(\"SELECT * FROM CHLA_22\", con)\n",
    "df3 = pd.read_sql_query(\"SELECT * FROM TEMP_18\", con)\n",
    "df4 = pd.read_sql_query(\"SELECT * FROM TEMP_22\", con)"
   ]
  },
  {
   "attachments": {},
   "cell_type": "markdown",
   "metadata": {},
   "source": [
    "## How have the chlorophyl a and temperature levels in the North and Baltic Seas of Germany changed?\n",
    "Four graphs are generated: chlorophyl a + temperature 2018, chlorophyll a + temperature 2022, chlorophyll a + temperature changes from 2018 to 2022, chlorophyll a + temperature by station. For the graphs, the measurement depth is also taken into account, so there might be even more graphs."
   ]
  },
  {
   "cell_type": "code",
   "execution_count": 31,
   "metadata": {},
   "outputs": [],
   "source": [
    "# read data for chlorophyl a from 2018 \n",
    "pd.to_datetime(df1.Date)\n",
    "# combine values from different measuring methods\n",
    "avg=[]\n",
    "for u in range(len(df1)):\n",
    "    i=0\n",
    "    if  math.isnan(df1[\"CHLA_SENE_DEV_NDT [µg/l]\"][u]):\n",
    "        i+=1\n",
    "    if not math.isnan(df1[\"CHLA_FLM_FGN_AL [µg/l]\"][u]):\n",
    "        i+=1\n",
    "    if i != 0:\n",
    "        avg.append(df1[\"CHLA_SENE_DEV_NDT [µg/l]\"][u] + df1[ \"CHLA_FLM_FGN_AL [µg/l]\"][u]/i)\n",
    "    else:\n",
    "        avg.append(math.nan)\n",
    "# df1 = df1.assign(avg=avg)  \n",
    "# combine values from same mont\n",
    "# df1.groupby(pd.PeriodIndex(df1['Date'], freq=\"M\"))[\"avg\"].mean()\n",
    "# use the plot function\n",
    "# plt.plot(values)"
   ]
  }
 ],
 "metadata": {
  "kernelspec": {
   "display_name": "Python 3 (ipykernel)",
   "language": "python",
   "name": "python3"
  },
  "language_info": {
   "codemirror_mode": {
    "name": "ipython",
    "version": 3
   },
   "file_extension": ".py",
   "mimetype": "text/x-python",
   "name": "python",
   "nbconvert_exporter": "python",
   "pygments_lexer": "ipython3",
   "version": "3.11.0rc1"
  },
  "orig_nbformat": 4
 },
 "nbformat": 4,
 "nbformat_minor": 2
}
