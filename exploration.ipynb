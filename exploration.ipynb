{
 "cells": [
  {
   "attachments": {},
   "cell_type": "markdown",
   "metadata": {},
   "source": [
    "# Data Exploration\n",
    "In this notebook, the data exploration steps are described. The data which consists of two tables with measurements for chlorophyll a and two tables with measurements for temperature is loaded from the database and transformed into one table for chlorophyll a and one for temperature. Invalid rows (empty values for chlorophyll a or temperature) are deleted so that the data can be further analyzed. Furthermore some rows like rows that are not in both temperature tables or bot chlorophyll a tables are deleted, because they are not needed for the analysis. You should run the test.sh file within the project folder before to get the data downloaded into the database and also get the database checked for errors. </br>\n",
    "<b>Use some Version of python3.11 if you run this notebook or any other files in this git.</b>"
   ]
  },
  {
   "attachments": {},
   "cell_type": "markdown",
   "metadata": {},
   "source": [
    "## Install dependencies"
   ]
  },
  {
   "cell_type": "code",
   "execution_count": null,
   "metadata": {},
   "outputs": [],
   "source": [
    "%pip install pandas"
   ]
  },
  {
   "attachments": {},
   "cell_type": "markdown",
   "metadata": {},
   "source": [
    "## Load data"
   ]
  },
  {
   "cell_type": "code",
   "execution_count": 96,
   "metadata": {},
   "outputs": [],
   "source": [
    "import pandas as pd\n",
    "import sqlite3\n",
    "\n",
    "con = sqlite3.connect('./data/data.sqlite')\n",
    "df1 = pd.read_sql_query(\"SELECT * FROM CHLA_18\", con)\n",
    "df2 = pd.read_sql_query(\"SELECT * FROM CHLA_22\", con)\n",
    "df3 = pd.read_sql_query(\"SELECT * FROM TEMP_18\", con)\n",
    "df4 = pd.read_sql_query(\"SELECT * FROM TEMP_22\", con)"
   ]
  },
  {
   "attachments": {},
   "cell_type": "markdown",
   "metadata": {},
   "source": [
    "## Clean and merge data "
   ]
  },
  {
   "cell_type": "code",
   "execution_count": 97,
   "metadata": {},
   "outputs": [],
   "source": [
    "df1.drop(columns=['CHLA_FLM_FGN_AL [µg/l]', 'QV_1', 'QV_2', 'QV_3'], axis=1, inplace=True)\n",
    "df2.drop(columns=['QV_1', 'QV_2'],  axis=1, inplace=True)\n",
    "df3.drop(columns=['TEMP_THEPRC_NOT_NDT[°C]', 'QV_1', 'QV_2', 'QV_3'], axis=1, inplace=True)\n",
    "df4.drop(columns=['QV_1', 'QV_2'],  axis=1, inplace=True)\n",
    "df_merged1=pd.concat([df1,df2]) \n",
    "df_merged2=pd.concat([df3,df4]) \n",
    "df_merged1.dropna(subset=['CHLA_SENE_DEV_NDT [µg/l]'], inplace=True)\n",
    "df_merged2.dropna(subset=['TEMP_THE_NOT_NDT[°C]'],  inplace=True )"
   ]
  },
  {
   "attachments": {},
   "cell_type": "markdown",
   "metadata": {},
   "source": [
    "## Look at metadata and first rows"
   ]
  },
  {
   "cell_type": "code",
   "execution_count": null,
   "metadata": {},
   "outputs": [],
   "source": [
    "print(\"Chlorophyll a measurements:\")\n",
    "df_merged1.info()\n",
    "print(df_merged1.head(5))\n",
    "print(\"\\n\\nTemperature measurements:\")\n",
    "df_merged2.info()\n",
    "print(df_merged2.head(5))"
   ]
  },
  {
   "attachments": {},
   "cell_type": "markdown",
   "metadata": {},
   "source": [
    "### Data exploration\n"
   ]
  },
  {
   "cell_type": "code",
   "execution_count": null,
   "metadata": {},
   "outputs": [],
   "source": []
  }
 ],
 "metadata": {
  "kernelspec": {
   "display_name": "Python 3",
   "language": "python",
   "name": "python3"
  },
  "language_info": {
   "codemirror_mode": {
    "name": "ipython",
    "version": 3
   },
   "file_extension": ".py",
   "mimetype": "text/x-python",
   "name": "python",
   "nbconvert_exporter": "python",
   "pygments_lexer": "ipython3",
   "version": "3.10.6"
  },
  "orig_nbformat": 4
 },
 "nbformat": 4,
 "nbformat_minor": 2
}
